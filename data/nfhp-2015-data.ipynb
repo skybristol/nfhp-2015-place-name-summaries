{
 "cells": [
  {
   "cell_type": "markdown",
   "metadata": {},
   "source": [
    "## DRAFT: NFHP Data into BIS Database \n",
    "#### Daniel Wieferich - USGS\n",
    "\n",
    "This notebook documents the retrieval of National Fish Habitat Partnership's (NFHP) 2015 National Assessment of Fish Habitat Condition. \n",
    "\n",
    "Workflow used in GC2 is described below.  This workflow needs to be updated to get data into CHS.  In update we should streamline steps and put more logic into code to select out correct data instead of hard coding url.\n",
    " 1: Identify needed data in ScienceBase\n",
    " 2: Download data from ScienceBase\n",
    " 3: Use user interface to upload data into GC2 (This step should be changed in time so that the code directly inserts data into the BIS database.  Due to limitations in the GC2 package upload is done through the UI)."
   ]
  },
  {
   "cell_type": "code",
   "execution_count": 3,
   "metadata": {
    "collapsed": true
   },
   "outputs": [],
   "source": [
    "#Import packages\n",
    "import urllib.request as ur\n"
   ]
  },
  {
   "cell_type": "code",
   "execution_count": 4,
   "metadata": {},
   "outputs": [
    {
     "data": {
      "text/plain": [
       "0"
      ]
     },
     "execution_count": 4,
     "metadata": {},
     "output_type": "execute_result"
    }
   ],
   "source": [
    "#NFHP 2015 Disturbance Scores and limiting disturbances are found within SB Item: 56216cc7e4b06217fc478c48\n",
    "\n",
    "#direct file download url\n",
    "q=\"https://www.sciencebase.gov/catalog/file/get/56216cc7e4b06217fc478c48?f=__disk__54%2Fcc%2F62%2F54cc628da7d02364d0ddd577c66704aa229a709a\"\n",
    "\n",
    "#Download zip file\n",
    "ur.urlretrieve(q , 'NFHP2015_HciScoresLimitingDistConterminousUS.zip')\n",
    "\n",
    "#Rename csv to nfhp2015_hci and upload to BIS database under nfhp schema."
   ]
  },
  {
   "cell_type": "code",
   "execution_count": 5,
   "metadata": {},
   "outputs": [
    {
     "data": {
      "text/plain": [
       "('NFHP2015DisturbanceDataConterminousUS.zip',\n",
       " <http.client.HTTPMessage at 0x29e5f23a2e8>)"
      ]
     },
     "execution_count": 5,
     "metadata": {},
     "output_type": "execute_result"
    }
   ],
   "source": [
    "#NFHP 2015 Anthropogenic Disturbances are found within SB Item: 58584d7ee4b0e40e53c24135\n",
    "\n",
    "#direct file download url\n",
    "q=\"https://www.sciencebase.gov/catalog/file/get/58584d7ee4b0e40e53c24135?f=__disk__5d%2F7b%2F6f%2F5d7b6f940b873ae95eb567b69e7c3beb25d0f265\"\n",
    "\n",
    "#Download USFWS LCC Boundary file to local directory\n",
    "ur.urlretrieve(q , 'NFHP2015DisturbanceDataConterminousUS.zip')\n",
    "\n",
    "#Rename csv to nfhp2015_dist and upload to BIS database under nfhp schema"
   ]
  }
 ],
 "metadata": {
  "kernelspec": {
   "display_name": "Python 3",
   "language": "python",
   "name": "python3"
  },
  "language_info": {
   "codemirror_mode": {
    "name": "ipython",
    "version": 3
   },
   "file_extension": ".py",
   "mimetype": "text/x-python",
   "name": "python",
   "nbconvert_exporter": "python",
   "pygments_lexer": "ipython3",
   "version": "3.6.1"
  }
 },
 "nbformat": 4,
 "nbformat_minor": 2
}
